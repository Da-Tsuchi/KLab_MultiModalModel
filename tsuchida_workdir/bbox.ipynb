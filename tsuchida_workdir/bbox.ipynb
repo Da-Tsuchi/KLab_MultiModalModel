{
 "cells": [
  {
   "cell_type": "code",
   "execution_count": 2,
   "metadata": {},
   "outputs": [],
   "source": [
    "import numpy as np\n",
    "from scipy.optimize import linear_sum_assignment\n",
    "\n",
    "\n",
    "def compute_iou(bbox1: list, bbox2: list, verbose: bool=False):\n",
    "    x1,y1,x2,y2 = bbox1\n",
    "    x1_,y1_,x2_,y2_ = bbox2\n",
    "    \n",
    "    x1_in = max(x1,x1_)\n",
    "    y1_in = max(y1,y1_)\n",
    "    x2_in = min(x2,x2_)\n",
    "    y2_in = min(y2,y2_)\n",
    "\n",
    "    intersection = compute_area(bbox=[x1_in,y1_in,x2_in,y2_in],invalid=0.0)\n",
    "    area1 = compute_area(bbox1,invalid=0)\n",
    "    area2 = compute_area(bbox2,invalid=0)\n",
    "    union = area1 + area2 - intersection\n",
    "    iou = intersection / (union + 1e-6)\n",
    "\n",
    "    if verbose:\n",
    "        return iou, intersection, union\n",
    "\n",
    "    return iou \n",
    "\n",
    "\n",
    "def compute_area(bbox: list, invalid: float=None) -> float:\n",
    "    x1,y1,x2,y2 = bbox\n",
    "\n",
    "    if (x2 <= x1) or (y2 <= y1):\n",
    "        area = invalid\n",
    "    else:\n",
    "        area = (x2 - x1) * (y2 - y1)\n",
    "\n",
    "    return area\n",
    "\n",
    "\n",
    "def assign_boxes(pred_boxes: list[list], gt_boxes: list[list]):\n",
    "    n1 = len(pred_boxes)\n",
    "    n2 = len(gt_boxes)\n",
    "    cost = np.zeros([n1,n2])\n",
    "    ious = np.zeros([n1,n2])\n",
    "    for i,bbox1 in enumerate(pred_boxes):\n",
    "        for j,bbox2 in enumerate(gt_boxes):\n",
    "            iou = compute_iou(bbox1,bbox2)\n",
    "            ious[i,j] = iou\n",
    "            cost[i,j] = 1-iou\n",
    "\n",
    "    # solve assignment\n",
    "    pred_box_ids, gt_box_ids = linear_sum_assignment(cost)\n",
    "    pair_ids = list(zip(pred_box_ids, gt_box_ids))\n",
    "\n",
    "    # select assignments with iou > 0\n",
    "    pair_ids = [(i,j) for i,j in pair_ids if ious[i,j] > 0]\n",
    "    pairs = [(pred_boxes[i],gt_boxes[j]) for i,j in pair_ids]\n",
    "    pair_ious = [ious[i,j] for i,j in pair_ids]\n",
    "\n",
    "    return pairs, pair_ious, pair_ids\n",
    "\n",
    "\n",
    "def loc_metric(pred_boxes: list[list], gt_boxes: list[list]) -> float:\n",
    "    num_pred = len(pred_boxes)\n",
    "    num_gt = len(gt_boxes)\n",
    "    if num_pred == 0 and num_gt == 0:\n",
    "        return 1\n",
    "    elif min(num_pred,num_gt) == 0 and max(num_pred,num_gt) > 0:\n",
    "        return 0\n",
    "        \n",
    "    pairs, pair_ious, pair_ids = assign_boxes(pred_boxes,gt_boxes)\n",
    "    num_detected = len(pairs)\n",
    "    num_missed = num_gt - num_detected\n",
    "    return np.sum(pair_ious) / (num_pred + num_missed)"
   ]
  },
  {
   "cell_type": "code",
   "execution_count": 3,
   "metadata": {},
   "outputs": [
    {
     "name": "stdout",
     "output_type": "stream",
     "text": [
      "0.07142857132653062\n",
      "0.33333333000000004\n",
      "0.20238095066326534\n"
     ]
    }
   ],
   "source": [
    "pred_boxes_batch = [[[0,0,20,20]],[[0,0,10,10],[20,20,30,30],[40,40,50,50]]]\n",
    "gt_boxes_batch = [[[10,10,30,30],[40,40,60,60]],[[0,0,10,10]]]\n",
    "\n",
    "array=[]\n",
    "for pred_boxes,gt_boxes in zip(pred_boxes_batch,gt_boxes_batch):\n",
    "    print(float(loc_metric(pred_boxes,gt_boxes)))\n",
    "    array.append(float(loc_metric(pred_boxes,gt_boxes)))\n",
    "\n",
    "print(np.mean(array))\n"
   ]
  },
  {
   "cell_type": "code",
   "execution_count": null,
   "metadata": {},
   "outputs": [],
   "source": []
  }
 ],
 "metadata": {
  "kernelspec": {
   "display_name": "grit",
   "language": "python",
   "name": "python3"
  },
  "language_info": {
   "codemirror_mode": {
    "name": "ipython",
    "version": 3
   },
   "file_extension": ".py",
   "mimetype": "text/x-python",
   "name": "python",
   "nbconvert_exporter": "python",
   "pygments_lexer": "ipython3",
   "version": "3.10.13"
  }
 },
 "nbformat": 4,
 "nbformat_minor": 2
}
